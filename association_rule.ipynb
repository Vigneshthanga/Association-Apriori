{
 "cells": [
  {
   "cell_type": "code",
   "execution_count": 22,
   "metadata": {},
   "outputs": [
    {
     "name": "stdout",
     "output_type": "stream",
     "text": [
      "11\n",
      "[RelationRecord(items=frozenset({'N'}), support=0.5952380952380952, ordered_statistics=[OrderedStatistic(items_base=frozenset(), items_add=frozenset({'N'}), confidence=0.5952380952380952, lift=1.0)]), RelationRecord(items=frozenset({'a'}), support=0.5, ordered_statistics=[OrderedStatistic(items_base=frozenset(), items_add=frozenset({'a'}), confidence=0.5, lift=1.0)]), RelationRecord(items=frozenset({'e'}), support=0.40476190476190477, ordered_statistics=[OrderedStatistic(items_base=frozenset(), items_add=frozenset({'e'}), confidence=0.40476190476190477, lift=1.0)]), RelationRecord(items=frozenset({'l'}), support=0.38095238095238093, ordered_statistics=[OrderedStatistic(items_base=frozenset(), items_add=frozenset({'l'}), confidence=0.38095238095238093, lift=1.0)]), RelationRecord(items=frozenset({'n'}), support=0.5, ordered_statistics=[OrderedStatistic(items_base=frozenset(), items_add=frozenset({'n'}), confidence=0.5, lift=1.0)]), RelationRecord(items=frozenset({'s'}), support=0.40476190476190477, ordered_statistics=[OrderedStatistic(items_base=frozenset(), items_add=frozenset({'s'}), confidence=0.40476190476190477, lift=1.0)]), RelationRecord(items=frozenset({'N', 'a'}), support=0.5, ordered_statistics=[OrderedStatistic(items_base=frozenset({'N'}), items_add=frozenset({'a'}), confidence=0.84, lift=1.68), OrderedStatistic(items_base=frozenset({'a'}), items_add=frozenset({'N'}), confidence=1.0, lift=1.68)]), RelationRecord(items=frozenset({'N', 'n'}), support=0.5, ordered_statistics=[OrderedStatistic(items_base=frozenset({'N'}), items_add=frozenset({'n'}), confidence=0.84, lift=1.68), OrderedStatistic(items_base=frozenset({'n'}), items_add=frozenset({'N'}), confidence=1.0, lift=1.68)]), RelationRecord(items=frozenset({'a', 'n'}), support=0.5, ordered_statistics=[OrderedStatistic(items_base=frozenset({'a'}), items_add=frozenset({'n'}), confidence=1.0, lift=2.0), OrderedStatistic(items_base=frozenset({'n'}), items_add=frozenset({'a'}), confidence=1.0, lift=2.0)]), RelationRecord(items=frozenset({'s', 'e'}), support=0.40476190476190477, ordered_statistics=[OrderedStatistic(items_base=frozenset({'e'}), items_add=frozenset({'s'}), confidence=1.0, lift=2.4705882352941178), OrderedStatistic(items_base=frozenset({'s'}), items_add=frozenset({'e'}), confidence=1.0, lift=2.4705882352941178)]), RelationRecord(items=frozenset({'N', 'a', 'n'}), support=0.5, ordered_statistics=[OrderedStatistic(items_base=frozenset({'N', 'a'}), items_add=frozenset({'n'}), confidence=1.0, lift=2.0), OrderedStatistic(items_base=frozenset({'N', 'n'}), items_add=frozenset({'a'}), confidence=1.0, lift=2.0), OrderedStatistic(items_base=frozenset({'a', 'n'}), items_add=frozenset({'N'}), confidence=1.0, lift=1.68)])]\n"
     ]
    }
   ],
   "source": [
    "import numpy as np\n",
    "import matplotlib.pyplot as plt\n",
    "import pandas as pd\n",
    "from apyori import apriori\n",
    "\n",
    "df = pd.read_csv('/Users/vigneshkumarthangarajan/Documents/Large-Scale/transaction.csv',header=None,sep=',')\n",
    "records = []\n",
    "for i in range(0,7):\n",
    "    for j in range(0,6):\n",
    "        records.append(str(df.values[i, j]))\n",
    "ass_rules = apriori(records,min_support=0.30,min_Confidence=0.80,min_length=3)\n",
    "as_result = list(ass_rules)\n",
    "print(len(as_result))\n",
    "print(as_result)"
   ]
  },
  {
   "cell_type": "code",
   "execution_count": null,
   "metadata": {},
   "outputs": [],
   "source": []
  }
 ],
 "metadata": {
  "kernelspec": {
   "display_name": "Python 3",
   "language": "python",
   "name": "python3"
  },
  "language_info": {
   "codemirror_mode": {
    "name": "ipython",
    "version": 3
   },
   "file_extension": ".py",
   "mimetype": "text/x-python",
   "name": "python",
   "nbconvert_exporter": "python",
   "pygments_lexer": "ipython3",
   "version": "3.7.3"
  }
 },
 "nbformat": 4,
 "nbformat_minor": 2
}
